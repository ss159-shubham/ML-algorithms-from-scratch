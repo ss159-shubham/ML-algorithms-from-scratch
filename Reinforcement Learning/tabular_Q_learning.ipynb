{
 "cells": [
  {
   "cell_type": "code",
   "execution_count": 82,
   "id": "016cc8b5-7765-4f7f-93b8-bc8396741f74",
   "metadata": {},
   "outputs": [],
   "source": [
    "import numpy as np\n",
    "import matplotlib.pyplot as plt\n",
    "import gymnasium as gym"
   ]
  },
  {
   "cell_type": "markdown",
   "id": "064618dd-e11e-4756-aea8-df53a58ec68e",
   "metadata": {},
   "source": [
    "## Module 1: Environment setup"
   ]
  },
  {
   "cell_type": "code",
   "execution_count": 83,
   "id": "4dc670e8-73d8-43a3-b56d-b152bba47cf9",
   "metadata": {},
   "outputs": [
    {
     "name": "stdout",
     "output_type": "stream",
     "text": [
      "S F F F\n",
      "F H F H\n",
      "F F F H\n",
      "H F F G\n",
      "\n"
     ]
    }
   ],
   "source": [
    "env = gym.make(\"FrozenLake-v1\", is_slippery=False)\n",
    "\n",
    "def render(env , state):\n",
    "    grid_size = int(np.sqrt(env.observation_space.n))\n",
    "    grid = np.array(list(env.unwrapped.desc.flatten()) , dtype = 'str').reshape(grid_size, grid_size)\n",
    "    \n",
    "    row, col = np.unravel_index(state, (grid_size, grid_size))\n",
    "    \n",
    "    for r in grid:\n",
    "        print(\" \".join(r))\n",
    "    print()\n",
    "\n",
    "state , info = env.reset()\n",
    "render(env, state)\n",
    "\n",
    "'''\n",
    "    --------------------------------------------------\n",
    "    UNCOMMENT THE CODE BELOW TO MANUALLY PLAY THE GAME\n",
    "    --------------------------------------------------\n",
    "'''\n",
    "\n",
    "'''\n",
    "done = False\n",
    "while not done:\n",
    "    action = int(input(\"Enter action (0=Left, 1=Down, 2=Right, 3=Up): \"))\n",
    "    state, reward, done, truncated, info = env.step(action)\n",
    "    render(env, state)\n",
    "    if done:\n",
    "        print(\"Game Over! Reward:\", reward)\n",
    "\n",
    "'''\n",
    "\n",
    "pass"
   ]
  },
  {
   "cell_type": "code",
   "execution_count": 84,
   "id": "a0ae8962-0fde-42d1-bd86-29270307763e",
   "metadata": {},
   "outputs": [],
   "source": [
    "class TQL:\n",
    "    '''\n",
    "        ------------------------\n",
    "        Module 2: initialization\n",
    "        ------------------------\n",
    "    '''\n",
    "    \n",
    "    def __init__(self, env ,n_iter = 100, max_step = 100, alpha = 0.01, gamma = 1.0, epsilon = 1.0, epsilon_min = 0.05, epsilon_decay = 0.999):\n",
    "        self.env = env\n",
    "        self.n_iter = n_iter\n",
    "        self.max_step = max_step\n",
    "        self.alpha = alpha                    # learning rate\n",
    "        self.gamma = gamma                    # discount factor\n",
    "        self.epsilon = epsilon                # exploration start\n",
    "        self.epsilon_min = epsilon_min\n",
    "        self.epsilon_decay = epsilon_decay\n",
    "\n",
    "        self.n_states = self.env.observation_space.n\n",
    "        self.n_actions = self.env.action_space.n\n",
    "\n",
    "        self.Q = np.zeros((self.n_states, self.n_actions), dtype=np.float32)\n",
    "\n",
    "    '''\n",
    "        ---------------------------------\n",
    "        Module 3: Policy (epsilon-greedy)\n",
    "        ---------------------------------\n",
    "    '''\n",
    "    def choose_action(self , state):\n",
    "        if np.random.rand() < self.epsilon:\n",
    "            # exploration\n",
    "            return self.env.action_space.sample()\n",
    "        else: \n",
    "            # exploitation\n",
    "            return np.argmax(self.Q[state])\n",
    "\n",
    "    def decay_epsilon(self):\n",
    "        if self.epsilon > self.epsilon_min:\n",
    "            self.epsilon = self.epsilon * self.epsilon_decay\n",
    "\n",
    "    '''\n",
    "        ------------------\n",
    "        Module 4: Q-update\n",
    "        ------------------\n",
    "    '''\n",
    "    def update(self , state , action, reward, next_state, done):\n",
    "        \n",
    "        best_action = np.argmax(self.Q[next_state]) if not done else 0\n",
    "\n",
    "        # compute temporal difference (TD) target\n",
    "        td_target = reward + (self.gamma * self.Q[next_state, best_action] * (not done))\n",
    "\n",
    "        # compute TD error\n",
    "        td_error = td_target - self.Q[state, action]\n",
    "\n",
    "        # update rule\n",
    "        self.Q[state, action] += self.alpha * td_error\n",
    "        \n",
    "    '''\n",
    "        -----------------------\n",
    "        Module 5: training loop\n",
    "        -----------------------\n",
    "    '''\n",
    "    def train(self):\n",
    "        rewards_per_episode = []\n",
    "\n",
    "        # loop over episodes\n",
    "        for episode in range(self.n_iter):\n",
    "            state , info = self.env.reset()\n",
    "            total_reward = 0\n",
    "\n",
    "            # loop over steps within episode\n",
    "            for step in range(self.max_step):\n",
    "                action = self.choose_action(state)\n",
    "\n",
    "                # take next step in the env\n",
    "                next_state, reward, done, _ , _ = self.env.step(action)\n",
    "\n",
    "                # update Q-values\n",
    "                self.update(state , action, reward, next_state, done)\n",
    "\n",
    "                # accumulate rewards\n",
    "                total_reward += reward\n",
    "\n",
    "                # move to next state\n",
    "                state = next_state\n",
    "\n",
    "                # stop if terminal\n",
    "                if done:\n",
    "                    break\n",
    "\n",
    "            # decay exploration rate\n",
    "            self.decay_epsilon()   \n",
    "\n",
    "            # store results\n",
    "            rewards_per_episode.append(total_reward)\n",
    "                \n",
    "\n",
    "        return rewards_per_episode\n",
    "            \n",
    "            "
   ]
  },
  {
   "cell_type": "markdown",
   "id": "2382117c-bf26-47e5-99f2-c1785cdbc21f",
   "metadata": {},
   "source": [
    "## Model execution"
   ]
  },
  {
   "cell_type": "code",
   "execution_count": 85,
   "id": "75c3b62a-61e2-41c4-bd19-7064b3889187",
   "metadata": {},
   "outputs": [
    {
     "name": "stdout",
     "output_type": "stream",
     "text": [
      "Training success rate: 0.93138\n"
     ]
    }
   ],
   "source": [
    "model = TQL(env , n_iter = 50000 , alpha = 0.01)  \n",
    "rewards = model.train()\n",
    "print(\"Training success rate:\", sum(rewards)/len(rewards))"
   ]
  },
  {
   "cell_type": "markdown",
   "id": "e408005e-d541-4b93-b726-6ab40b6e7a78",
   "metadata": {},
   "source": [
    "## Best Moves learned by the model "
   ]
  },
  {
   "cell_type": "code",
   "execution_count": 86,
   "id": "d042db81-d42a-4980-8f99-18ff174c581a",
   "metadata": {},
   "outputs": [
    {
     "name": "stdout",
     "output_type": "stream",
     "text": [
      "↓ ← ↓ ←\n",
      "↓ H ↓ H\n",
      "→ ↓ ↓ H\n",
      "H → → G\n"
     ]
    }
   ],
   "source": [
    "action_map = {0:'←', 1:'↓', 2:'→', 3:'↑'}\n",
    "g = int(np.sqrt(env.observation_space.n))\n",
    "grid = np.array(list(env.unwrapped.desc.flatten()) , dtype = 'str').reshape(g, g)\n",
    "\n",
    "\n",
    "for i , v in enumerate(model.Q):\n",
    "    move = np.argmax(v)\n",
    "    coord = np.unravel_index(i, (g,g))\n",
    "    if grid[coord] == 'H' or grid[coord] == 'G':\n",
    "        continue\n",
    "    else:    \n",
    "        grid[coord] = action_map[move]\n",
    "\n",
    "for r in grid:\n",
    "    print(\" \".join(r))\n",
    "    "
   ]
  },
  {
   "cell_type": "markdown",
   "id": "d36b83fa-71a8-4267-ba0a-802fc37a14c8",
   "metadata": {},
   "source": [
    "## Success rate over time"
   ]
  },
  {
   "cell_type": "code",
   "execution_count": 87,
   "id": "2a064b75-ced1-4cbb-a165-c63581df5e02",
   "metadata": {},
   "outputs": [
    {
     "data": {
      "image/png": "[encoded data removed]",
      "text/plain": [
       "<Figure size 640x480 with 1 Axes>"
      ]
     },
     "metadata": {},
     "output_type": "display_data"
    }
   ],
   "source": [
    "window = 1000\n",
    "moving_avg = np.convolve(rewards, np.ones(window)/window, mode=\"valid\")\n",
    "plt.plot(moving_avg)\n",
    "plt.title(\"Training Progress (Success Rate)\")\n",
    "plt.xlabel(\"Episodes\")\n",
    "plt.ylabel(\"Average Reward\")\n",
    "plt.show()"
   ]
  }
 ],
 "metadata": {
  "kernelspec": {
   "display_name": "Python 3 (ipykernel)",
   "language": "python",
   "name": "python3"
  },
  "language_info": {
   "codemirror_mode": {
    "name": "ipython",
    "version": 3
   },
   "file_extension": ".py",
   "mimetype": "text/x-python",
   "name": "python",
   "nbconvert_exporter": "python",
   "pygments_lexer": "ipython3",
   "version": "3.12.4"
  }
 },
 "nbformat": 4,
 "nbformat_minor": 5
}
