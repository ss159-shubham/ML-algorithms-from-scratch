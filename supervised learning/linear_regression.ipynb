{
 "cells": [
  {
   "cell_type": "code",
   "execution_count": 96,
   "id": "7fd81364-3ac0-4ba8-963f-d73cf617f05b",
   "metadata": {},
   "outputs": [],
   "source": [
    "import numpy as np\n",
    "import pandas as pd\n",
    "import matplotlib.pyplot as plt"
   ]
  },
  {
   "cell_type": "markdown",
   "id": "d4f0c3fd-c4e3-4db9-aea9-eb1f1fcc9d37",
   "metadata": {},
   "source": [
    "# Functions"
   ]
  },
  {
   "cell_type": "code",
   "execution_count": 97,
   "id": "095bfdf4-54f9-40ab-b063-2764785c3c84",
   "metadata": {},
   "outputs": [],
   "source": [
    "def data_generator(sample,features, noise):\n",
    "    np.random.seed(10)\n",
    "    X = np.random.rand(sample, features)\n",
    "    w = np.random.rand(features)\n",
    "    b = 10\n",
    "    y = np.dot(X, w) + b + (np.random.rand(sample) * noise) \n",
    "    return X, y\n",
    "\n",
    "class LinearRegression:\n",
    "    def __init__(self, n_iter, lr):\n",
    "        self.n_iter = n_iter\n",
    "        self.lr = lr\n",
    "        self.w = None\n",
    "        self.b = None\n",
    "\n",
    "    def fit(self, X, y):\n",
    "        samples, features = X.shape\n",
    "        self.w = np.zeros(features)\n",
    "        self.b = 0\n",
    "        for _ in range(self.n_iter):\n",
    "            y_pred = np.dot(X, self.w) + self.b\n",
    "            error = y_pred - y\n",
    "\n",
    "            dw = (1/samples) * np.dot(X.T , error)\n",
    "            db = (1/samples) * np.sum(error)\n",
    "\n",
    "            self.w -= dw * self.lr\n",
    "            self.b -= db * self.lr\n",
    "\n",
    "    def predict(self, X):\n",
    "        y = np.dot(X, self.w) + self.b\n",
    "        return y\n",
    "\n",
    "def shuffle_data(X, y, seed = None):\n",
    "    if seed:\n",
    "        np.random.seed(seed)\n",
    "    index = np.arange(len(X))\n",
    "    np.random.shuffle(index)\n",
    "    return X[index], y[index]\n",
    "\n",
    "def train_test_split(X, y , ratio, shuffle = False, seed = False):\n",
    "    if not 0<= ratio <= 1:\n",
    "        raise ValueError(\"`ratio` must be between 0 and 1.\")\n",
    "    if shuffle:\n",
    "        X, y = shuffle_data(X,y, seed)\n",
    "    divider = int(len(X) * ratio)\n",
    "    train_X = X[: divider]\n",
    "    test_X = X[divider: ]\n",
    "    train_y = y[: divider]\n",
    "    test_y = y[divider: ]\n",
    "    return train_X, train_y, test_X, test_y\n",
    "\n",
    "def mean_squared_error(y_true, y_pred):\n",
    "    mse = np.mean(np.power(y_true - y_pred, 2))\n",
    "    return mse"
   ]
  },
  {
   "cell_type": "markdown",
   "id": "212aa6a7-b1c0-4473-ab5c-3b6ee23e0115",
   "metadata": {},
   "source": [
    "# model execution"
   ]
  },
  {
   "cell_type": "code",
   "execution_count": 98,
   "id": "5a584301-f00d-462e-93b4-bae7a26922eb",
   "metadata": {},
   "outputs": [],
   "source": [
    "X , y = data_generator(sample = 100, features = 1, noise = 0.1)\n",
    "train_X, train_y, test_X, test_y = train_test_split(X, y , 0.7, shuffle = True, seed = 42)\n",
    "model = LinearRegression(lr = 0.1, n_iter = 1000)\n",
    "model.fit(train_X, train_y)\n",
    "predictions = model.predict(test_X)\n",
    "mse = mean_squared_error(test_y, predictions)"
   ]
  },
  {
   "cell_type": "code",
   "execution_count": null,
   "id": "fb441d59-610a-4ff3-9d42-b6923a23e85e",
   "metadata": {},
   "outputs": [],
   "source": []
  }
 ],
 "metadata": {
  "kernelspec": {
   "display_name": "Python 3 (ipykernel)",
   "language": "python",
   "name": "python3"
  },
  "language_info": {
   "codemirror_mode": {
    "name": "ipython",
    "version": 3
   },
   "file_extension": ".py",
   "mimetype": "text/x-python",
   "name": "python",
   "nbconvert_exporter": "python",
   "pygments_lexer": "ipython3",
   "version": "3.12.4"
  }
 },
 "nbformat": 4,
 "nbformat_minor": 5
}
