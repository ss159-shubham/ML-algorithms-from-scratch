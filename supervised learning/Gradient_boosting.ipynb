{
  "cells": [
    {
      "cell_type": "code",
      "execution_count": 61,
      "id": "1798699f-ba32-4fc1-954e-b05aec121139",
      "metadata": {
        "id": "1798699f-ba32-4fc1-954e-b05aec121139"
      },
      "outputs": [],
      "source": [
        "import numpy as np\n",
        "from sklearn.datasets import load_diabetes\n",
        "from graphviz import Digraph\n",
        "import seaborn as sns\n",
        "import matplotlib.pyplot as plt"
      ]
    },
    {
      "cell_type": "code",
      "execution_count": 62,
      "id": "79b1c284-3e59-47b5-8a4b-0357e2a135d5",
      "metadata": {
        "id": "79b1c284-3e59-47b5-8a4b-0357e2a135d5"
      },
      "outputs": [],
      "source": [
        "data = load_diabetes()\n",
        "X = data.data\n",
        "y = data.target"
      ]
    },
    {
      "cell_type": "markdown",
      "source": [
        "# Decision Tree regressor class"
      ],
      "metadata": {
        "id": "WTboJZaAjmA3"
      },
      "id": "WTboJZaAjmA3"
    },
    {
      "cell_type": "code",
      "execution_count": 63,
      "id": "668eb25f-5c4b-423b-929a-b2951cd54391",
      "metadata": {
        "id": "668eb25f-5c4b-423b-929a-b2951cd54391"
      },
      "outputs": [],
      "source": [
        "class Node:\n",
        "    def __init__(self, feature = None, threshold = None, left = None, right = None, value = None):\n",
        "        self.feature = feature\n",
        "        self.threshold = threshold\n",
        "        self.left = left\n",
        "        self.right = right\n",
        "        self.value = value\n",
        "\n",
        "\n",
        "class DecisionTreeRegressor:\n",
        "    def __init__(self, max_depth = 4, min_sample_split = 40):\n",
        "        self.max_depth = max_depth\n",
        "        self.min_sample_split = min_sample_split\n",
        "        self.root = None\n",
        "\n",
        "    def best_split(self, X, y):\n",
        "        n_features = X.shape[1]\n",
        "\n",
        "        best_var_red = -float('inf')\n",
        "        best_feature = None\n",
        "        best_threshold = None\n",
        "\n",
        "        y_var = np.var(y)* len(y)\n",
        "\n",
        "        for feature in range(n_features):\n",
        "            unique_vals = np.sort(np.unique(X[:, feature]))\n",
        "            thresholds = []\n",
        "            for i in range(1 , len(unique_vals)):\n",
        "                thres = (unique_vals[i] + unique_vals[i-1]) / 2\n",
        "                thresholds.append(round(thres ,3))\n",
        "\n",
        "            for thres in thresholds:\n",
        "                left_mask = X[:, feature] <= thres\n",
        "                right_mask = X[:, feature] > thres\n",
        "\n",
        "                y_left = y[left_mask]\n",
        "                y_right = y[right_mask]\n",
        "\n",
        "                if len(y_left) == 0 or len(y_right) == 0:\n",
        "                    continue\n",
        "\n",
        "                left_var = np.var(y_left) * len(y_left)\n",
        "                right_var = np.var(y_right) * len(y_right)\n",
        "                var_reduction = y_var -(left_var + right_var)\n",
        "\n",
        "                if var_reduction > best_var_red:\n",
        "                    best_var_red = var_reduction\n",
        "                    best_feature = feature\n",
        "                    best_threshold = thres\n",
        "\n",
        "        return best_var_red, best_feature, best_threshold\n",
        "\n",
        "\n",
        "    def build_tree(self, X, y, depth = 0):\n",
        "        n_samples, n_features = X.shape\n",
        "        if (depth >= self.max_depth) or (n_samples < self.min_sample_split) or np.var(y) == 0:\n",
        "            return Node(value = np.mean(y))\n",
        "\n",
        "        var_red, feature, threshold = self.best_split(X,y)\n",
        "        if feature is None:\n",
        "            return Node(value = np.mean(y))\n",
        "        left_mask = X[:, feature] <= threshold\n",
        "        right_mask = X[:, feature] > threshold\n",
        "\n",
        "        left = self.build_tree(X[left_mask] , y[left_mask] , depth + 1)\n",
        "        right = self.build_tree(X[right_mask] , y[right_mask] , depth + 1)\n",
        "\n",
        "        return Node(\n",
        "            feature = feature,\n",
        "            threshold = threshold,\n",
        "            left = left,\n",
        "            right = right\n",
        "        )\n",
        "\n",
        "    def plot_tree(self,node ,dot, counter = [0]):\n",
        "        if dot is None:\n",
        "            dot = Digraph()\n",
        "            dot.attr('node', shape = 'box')\n",
        "\n",
        "        counter_id = str(counter[0])\n",
        "        counter[0] += 1\n",
        "\n",
        "        if node.value is not None:\n",
        "                dot.node(counter_id, f'Leaf \\n Value: {node.value :.2f}')\n",
        "        else:\n",
        "            dot.node(counter_id, f'X[{node.feature}] <= {node.threshold}')\n",
        "            left_id = self.plot_tree(node.left, dot, counter)\n",
        "            right_id = self.plot_tree(node.right, dot, counter)\n",
        "\n",
        "            dot.edge(counter_id, left_id, label = 'True')\n",
        "            dot.edge(counter_id, right_id, label = 'False')\n",
        "\n",
        "        return counter_id\n",
        "\n",
        "    def fit(self, X, y):\n",
        "        self.root = self.build_tree(X, y)\n",
        "\n",
        "    def predict_one(self, x, node):\n",
        "        if node.value is not None:\n",
        "            return node.value\n",
        "\n",
        "        if x[node.feature] <= node.threshold:\n",
        "            return self.predict_one(x, node.left)\n",
        "        else:\n",
        "            return self.predict_one(x, node.right)\n",
        "\n",
        "    def predict(self, X):\n",
        "        return np.array([round(self.predict_one(x, self.root) ,2) for x in X])\n",
        "\n"
      ]
    },
    {
      "cell_type": "markdown",
      "source": [
        "# GradientBoostingRegressor class"
      ],
      "metadata": {
        "id": "mXMYGJJoj0j1"
      },
      "id": "mXMYGJJoj0j1"
    },
    {
      "cell_type": "code",
      "execution_count": 64,
      "id": "7a183a51-326a-44a6-b10b-c7ef14634529",
      "metadata": {
        "id": "7a183a51-326a-44a6-b10b-c7ef14634529"
      },
      "outputs": [],
      "source": [
        "class myGradientBoostingRegressor:\n",
        "    def __init__(self, n_iter, learning_rate, max_depth, min_sample_split):\n",
        "        self.n_iter = n_iter\n",
        "        self.learning_rate = learning_rate\n",
        "        self.max_depth = max_depth\n",
        "        self.min_sample_split = min_sample_split\n",
        "        self.init_val = None\n",
        "        self.trees = []\n",
        "        self.loss_history = []\n",
        "\n",
        "    def fit(self, X, y):\n",
        "        self.init_val = y.mean()\n",
        "        y_pred = np.full_like(y, fill_value = self.init_val, dtype = float)\n",
        "\n",
        "        patience = 10\n",
        "        epochs_without_improvement = 0\n",
        "        min_delta = 1\n",
        "        for _ in range(self.n_iter):\n",
        "            residual = y - y_pred\n",
        "            loss = np.mean(residual ** 2)\n",
        "\n",
        "            if self.loss_history:\n",
        "                 if self.loss_history[-1] - loss > min_delta:\n",
        "                    epochs_without_improvement = 0\n",
        "                 else:\n",
        "                    epochs_without_improvement += 1\n",
        "            else:\n",
        "                epochs_without_improvement = 0\n",
        "\n",
        "            self.loss_history.append(loss)\n",
        "\n",
        "            if epochs_without_improvement >= patience:\n",
        "                break\n",
        "\n",
        "\n",
        "            tree = DecisionTreeRegressor(\n",
        "                max_depth = self.max_depth,\n",
        "                min_sample_split = self.min_sample_split\n",
        "            )\n",
        "\n",
        "            tree.fit(X, residual)\n",
        "\n",
        "            # value update\n",
        "            y_pred += self.learning_rate * tree.predict(X)\n",
        "            self.trees.append(tree)\n",
        "\n",
        "\n",
        "\n",
        "\n",
        "    def predict(self, X):\n",
        "        y_pred = np.full(X.shape[0] , self.init_val)\n",
        "\n",
        "        for tree in self.trees:\n",
        "            y_pred +=  self.learning_rate * tree.predict(X)\n",
        "\n",
        "        return y_pred\n",
        ""
      ]
    },
    {
      "cell_type": "markdown",
      "source": [
        "# utility functions"
      ],
      "metadata": {
        "id": "0HonnHpcj-jl"
      },
      "id": "0HonnHpcj-jl"
    },
    {
      "cell_type": "code",
      "execution_count": 65,
      "id": "14ca71cb-7233-46eb-a662-22f8079602d6",
      "metadata": {
        "id": "14ca71cb-7233-46eb-a662-22f8079602d6"
      },
      "outputs": [],
      "source": [
        "def train_test_split(X, y, ratio, shuffle = False, seed = False):\n",
        "    if seed:\n",
        "        np.random.seed(seed)\n",
        "    if shuffle:\n",
        "        index = np.arange(len(X))\n",
        "        np.random.shuffle(index)\n",
        "        X, y = X[index], y[index]\n",
        "    divider = int(len(X) * ratio)\n",
        "    train_X = X[: divider]\n",
        "    test_X = X[divider: ]\n",
        "    train_y = y[: divider]\n",
        "    test_y = y[divider: ]\n",
        "    return train_X, train_y, test_X, test_y\n",
        "\n",
        "def r2_score(y_true, y_pred):\n",
        "    ss_res = np.sum((y_true - y_pred) ** 2)  # Residual sum of squares\n",
        "    ss_tot = np.sum((y_true - np.mean(y_true)) ** 2) # Total sum of squares\n",
        "    return 1 - (ss_res / ss_tot)"
      ]
    },
    {
      "cell_type": "markdown",
      "source": [
        "# Model execution"
      ],
      "metadata": {
        "id": "6BRg5BickCAM"
      },
      "id": "6BRg5BickCAM"
    },
    {
      "cell_type": "code",
      "execution_count": 66,
      "id": "48b962d5-c110-4a0f-bbde-a7dae8d476fa",
      "metadata": {
        "id": "48b962d5-c110-4a0f-bbde-a7dae8d476fa"
      },
      "outputs": [],
      "source": [
        "train_X, train_y, test_X, test_y = train_test_split(X, y , 0.6 , shuffle = True, seed = 1)\n",
        "model = myGradientBoostingRegressor(n_iter = 500, learning_rate = 0.01, max_depth = 2 , min_sample_split = 30)\n",
        "model.fit(train_X, train_y)\n",
        "y_pred = model.predict(test_X)"
      ]
    },
    {
      "cell_type": "markdown",
      "source": [
        "# Loss curve"
      ],
      "metadata": {
        "id": "u8EI38fZkHcM"
      },
      "id": "u8EI38fZkHcM"
    },
    {
      "cell_type": "code",
      "execution_count": 67,
      "id": "df6cbbfc-7405-4efb-ad72-bb5af7e8c6b1",
      "metadata": {
        "colab": {
          "base_uri": "https://localhost:8080/",
          "height": 472
        },
        "id": "df6cbbfc-7405-4efb-ad72-bb5af7e8c6b1",
        "outputId": "c31abe00-7e14-478d-ac21-cd57baafe4b9"
      },
      "outputs": [
        {
          "output_type": "display_data",
          "data": {
            "text/plain": [
              "<Figure size 640x480 with 1 Axes>"
            ],
            "image/png": "[encoded data removed]"
          },
          "metadata": {}
        }
      ],
      "source": [
        "plt.plot(model.loss_history)\n",
        "plt.xlabel(\"Epoch\")\n",
        "plt.ylabel(\"Loss (MSE)\")\n",
        "plt.title(\"Gradient Boosting Loss Curve\")\n",
        "plt.show()"
      ]
    },
    {
      "cell_type": "markdown",
      "source": [
        "# R2_Score comparision with standared sklearn GradientBoostingRegressor"
      ],
      "metadata": {
        "id": "55sAaTQjkOBF"
      },
      "id": "55sAaTQjkOBF"
    },
    {
      "cell_type": "code",
      "execution_count": 69,
      "id": "9f52256f-c538-400d-9045-bdbcff9affa4",
      "metadata": {
        "colab": {
          "base_uri": "https://localhost:8080/"
        },
        "id": "9f52256f-c538-400d-9045-bdbcff9affa4",
        "outputId": "68330c5a-a6aa-4c43-da26-a2da5cbb1bb7"
      },
      "outputs": [
        {
          "output_type": "stream",
          "name": "stdout",
          "text": [
            "sklearn r2_score:  0.5049123783744047\n",
            "my r2_score:  0.4999227300244893\n"
          ]
        }
      ],
      "source": [
        "from sklearn.ensemble import GradientBoostingRegressor\n",
        "\n",
        "sk_model = GradientBoostingRegressor(n_estimators = 500 , learning_rate= 0.01, max_depth = 2, min_samples_split=30, random_state = 1)\n",
        "sk_model.fit(train_X, train_y)\n",
        "sk_pred = sk_model.predict(test_X)\n",
        "print('sklearn r2_score: ',r2_score(test_y, sk_pred))\n",
        "print('my r2_score: ', r2_score(test_y, y_pred))"
      ]
    }
  ],
  "metadata": {
    "kernelspec": {
      "display_name": "Python 3",
      "name": "python3"
    },
    "language_info": {
      "codemirror_mode": {
        "name": "ipython",
        "version": 3
      },
      "file_extension": ".py",
      "mimetype": "text/x-python",
      "name": "python",
      "nbconvert_exporter": "python",
      "pygments_lexer": "ipython3",
      "version": "3.12.4"
    },
    "colab": {
      "provenance": []
    }
  },
  "nbformat": 4,
  "nbformat_minor": 5
}